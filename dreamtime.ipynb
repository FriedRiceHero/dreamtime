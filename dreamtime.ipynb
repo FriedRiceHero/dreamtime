{
 "cells": [
  {
   "cell_type": "markdown",
   "metadata": {},
   "source": [
    "energy conservation:\n",
    "particles have problems with energy especially when time step is large or equivalently when force changes abruptly or equivalently when the particle moves quickly. Possible solutions:\n",
    "1. small step size: easy, but computationally costly\n",
    "2. quadratic trees: loop back and subdivide time steps recursively when a particle's position changes too quickly. maybe less bad computationally for given precision\n",
    "3. do something like looking at force in a circle around particle based on velocity to see if it's very different\n",
    "basically the problem arises due to noncontinuous change of force on the particle before/after the time step. When the discontinuity is bad, energy is lost or gained in ways that are difficult to account for\n",
    "\n",
    "inverse-square forces:\n",
    "problems arise when particles that experience an inverse-square (or general inverse-distance scaling) force approach each other very closely. The high velocities involved tend to kick the particles well past each other and they end up shooting off to infinity.\n",
    "1. decreasing step size helps in some cases but does not address the fundamental problem\n",
    "2. can simply stop simulation when particles come too close (i.e. collide)\n",
    "3. slipping-past:\n",
    "    when two particles get close enough for a few conditions to be fulfilled:\n",
    "    i. moving quickly compared to all other particles\n",
    "    ii. force due to mutual attraction much stronger than all other forces\n",
    "    iii. on collision course (this is hard to determine esp. in systems of more than two particles. if two such particles are quite close they will usually collide unless another 'strong' force changes things, so comparing scales of velocity/distance/force has to be enough)\n",
    "    then resolve the singularity by:\n",
    "    i. moving the particles past each other. Mirror them across their center of mass, if one is nonfree consider its location to be the COM.\n",
    "    ii. they retain their velocities, magnitude and direction\n",
    "    iii. \n",
    "\n",
    "\n",
    "runge-kutta 4 method:\n",
    "better estimation of movement than euler's method which I have currently implemented. Since i'm starting with the second derivative I'll have to solve double system at once."
   ]
  },
  {
   "cell_type": "code",
   "execution_count": 1,
   "metadata": {},
   "outputs": [],
   "source": [
    "from dreamtime import *\n",
    "\n",
    "def xForce(particle1,particle2):\n",
    "    x1=particle1.x\n",
    "    x2=particle2.x\n",
    "    f1=.1*(x2-x1)\n",
    "    f2=.1*(x1-x2)\n",
    "    return{particle1: f1,particle2:f2}\n",
    "\n",
    "\n",
    "def gravity(particle1, particle2):\n",
    "    x1 = particle1.x\n",
    "    x2 = particle2.x\n",
    "    \n",
    "    m1 = particle1.m\n",
    "    m2 = particle2.m\n",
    "    \n",
    "    r2 = (x1-x2).magnitude()**2\n",
    "\n",
    "    f1 = 10*m1*m2*(x1-x2).direction() / (r2 + 0.01) if r2**(1/2) < 15 else (x2 - x1) \n",
    "    f2 = 10*m1*m2*(x2-x1).direction() / (r2 + 0.01) if r2**(1/2) < 15 else (x1 - x2)\n",
    "    \n",
    "    return{particle1: f1, particle2: f2}\n",
    "\n",
    "def constForce(particle1):\n",
    "    \n",
    "    return {particle1:1}\n",
    "\n",
    "def cForce(particle1,particle2):\n",
    "    q1=particle1.charges[coulombForce]\n",
    "    q2=particle2.charges[coulombForce]\n",
    "\n",
    "\n",
    "def drag(particle):\n",
    "    xdot = particle.xdot\n",
    "    f = .1*xdot\n",
    "    return {particle:f}\n",
    "\n",
    "here=universe(2,50,.01,maxDistanceStep=0.01)\n",
    "\n",
    "springForce=force(xForce,2)\n",
    "springForce.join(here)\n",
    "\n",
    "gravityForce=force(gravity,2)\n",
    "gravityForce.join(here)"
   ]
  },
  {
   "cell_type": "code",
   "execution_count": 2,
   "metadata": {},
   "outputs": [
    {
     "name": "stdout",
     "output_type": "stream",
     "text": [
      "this universe dreams...\n",
      "took a total of 187336 cycles\n"
     ]
    }
   ],
   "source": [
    "# fixedParticle=particle([0,0],[-0.1,0],5)\n",
    "# #fixedParticle.join(springForce)\n",
    "# fixedParticle.join(gravityForce)\n",
    "\n",
    "# freeParticle=particle([0,1],[0,0.1],5)\n",
    "# #freeParticle.join(springForce)\n",
    "# freeParticle.join(gravityForce)\n",
    "\n",
    "# dumbParticle=particle([-1,0],[0,0],5)\n",
    "# dumbParticle.join(gravityForce)\n",
    "\n",
    "particles = []\n",
    "\n",
    "initialPositions = [[1, 0], [0, 1], [-1, 0], [0, -1], [-0.5, -0.5], [0.5, 0.5], [-0.5, 0.5], [0.5, -0.5], [0.66, 0.33], [-0.66, 0.33]]\n",
    "\n",
    "for i in range(10):\n",
    "    particles.append(particle(initialPositions[i], [0, 0], 3))\n",
    "    particles[i].join(gravityForce)\n",
    "\n",
    "here.dreamtime()\n",
    "\n",
    "times=here.times\n",
    "\n",
    "paths = []\n",
    "for particle in particles:\n",
    "    paths.append(particle.path)\n",
    "    \n",
    "# path1=fixedParticle.path\n",
    "# path2=freeParticle.path\n",
    "# path3=dumbParticle.path\n"
   ]
  },
  {
   "cell_type": "code",
   "execution_count": 3,
   "metadata": {},
   "outputs": [],
   "source": [
    "# %matplotlib inline\n",
    "# import matplotlib.pyplot as plt\n",
    "# import matplotlib.animation as animation\n",
    "# plt.clf()\n",
    "# plt.plot([point[0] for point in path2],[point[1] for point in path2])\n",
    "# '''\n",
    "# plt.ylim(-.001,.001)\n",
    "# plt.xlim(78.538,78.541)\n",
    "# '''\n",
    "# plt.grid()\n",
    "# #plt.hlines([10,-10],0,100)\n",
    "# plt.show()"
   ]
  },
  {
   "cell_type": "code",
   "execution_count": 3,
   "metadata": {},
   "outputs": [
    {
     "data": {
      "application/vnd.jupyter.widget-view+json": {
       "model_id": "e5341157665a4f50a19d7246856f8069",
       "version_major": 2,
       "version_minor": 0
      },
      "image/png": "[encoded data removed]",
      "text/html": [
       "\n",
       "            <div style=\"display: inline-block;\">\n",
       "                <div class=\"jupyter-widgets widget-label\" style=\"text-align: center;\">\n",
       "                    Figure\n",
       "                </div>\n",
       "                <img src='data:image/png;base64,iVBORw0KGgoAAAANSUhEUgAAASwAAAEsCAYAAAB5fY51AAAAOXRFWHRTb2Z0d2FyZQBNYXRwbG90bGliIHZlcnNpb24zLjcuMiwgaHR0cHM6Ly9tYXRwbG90bGliLm9yZy8pXeV/AAAACXBIWXMAAA9hAAAPYQGoP6dpAAAX2klEQVR4nO3cX0zV9/3H8RegHDQVtGMckB3LtOtf/2ChMrTGdDkriYbNi6WsNsKI1tmiaT3ZKlSFWltxTg1LxRqtzl7UYdfUpqmEtmM1TVsWU5Sknf9i0eKanqOsk8OwgnI+v4v+PA6Bw5/CgU95PpJzwZfP55z3Qc8z5xy+nAhjjBEAWCByqAcAgN4iWACsQbAAWINgAbAGwQJgDYIFwBoEC4A1CBYAaxAsANYgWACsQbAAWINgAbAGwQJgDYIFwBoEC4A1CBYAaxAsANYgWACsQbAAWINgAbAGwQJgDYIFwBoEC4A1CBYAaxAsANYgWACsQbAAWINgAbAGwQJgDYIFwBoEC4A1Qgbrgw8+UHZ2tiZOnKiIiAi9+eabPV7h4cOHdd9998nhcOj222/Xvn37BmhUACNdyGC1tLRoxowZKi8v79WVnT17VgsWLNCDDz6ouro6PfXUU1q6dKneeeedARkWwMgWYYwxvVoYEaGDBw9q4cKF3a5ZvXq1Dh06pM8++yx47Ne//rUuXbqkqqqq7zwsgJFt1EBeWU1Njdxud4djWVlZeuqpp0Lua21tVWtra/DrQCCgr7/+Wj/4wQ8UERExkCMC+I6MMWpubtbEiRMVGRnet8EHNFher1dOp7PDMafTKb/fr2+++UZjxozpcl9paanWr18/kKMAGGTnz5/Xj370o7De5oAGq7+Kiork8XiCXzc1NWnSpEk6f/68YmNjh3AyADfz+/1yuVwaN25c2G97QIOVmJgon8/X4ZjP51NsbGy3z64kyeFwyOFwdDoeGxtLsIBhaijerhnQF6CZmZmqrq7ucOy9995TZmbmQN4MgBEqZLD++9//qq6uTnV1dZK+PW2hrq5ODQ0Nkr59KZebmxtcv3z5ctXX1+vpp5/WyZMntWPHDr322mtatWrV4N0DACNGyGB98sknmjlzpmbOnClJ8ng8mjlzpoqLiyVJX331VTBekvTjH/9Yhw4d0nvvvacZM2Zo69atevnll5WVlTWIdwHASNHr87DCye/3Ky4uTk1NTbyHBQwzQ/n45G8JAViDYAGwBsECYA2CBcAaBAuANQgWAGsQLADWIFgArEGwAFiDYAGwBsECYA2CBcAaBAuANQgWAGsQLADWIFgArEGwAFiDYAGwBsECYA2CBcAaBAuANQgWAGsQLADWIFgArEGwAFiDYAGwBsECYA2CBcAaBAuANQgWAGsQLADWIFgArEGwAFiDYAGwBsECYI1eBau8vFwpKSmKiYlRRkaGjhw5EnJ9WVmZ7rzzTo0ZM0Yul0urVq3SlStXBmRgACNXj8E6cOCAPB6PSkpKdPToUc2YMUNZWVm6cOFCl+v379+vwsJClZSU6MSJE9qzZ48OHDigZ555ZsCHBzCy9Bisbdu26bHHHlN+fr7uuece7dy5U2PHjtXevXu7XP/xxx9rzpw5WrRokVJSUvTQQw/pkUce6fFZGQD0JGSw2traVFtbK7fbfWNDZKTcbrdqamq63DN79mzV1tYGA1VfX6/KykrNnz+/29tpbW2V3+/vcAGAm40K9c3Gxka1t7fL6XR2OO50OnXy5Mku9yxatEiNjY164IEHZIzRtWvXtHz58pAvCUtLS7V+/fp+jA9gJBnw3xIePnxYGzdu1I4dO3T06FG98cYbOnTokDZs2NDtnqKiIjU1NQUv58+fH+ixAHwPhHyGFR8fr6ioKPl8vg7HfT6fEhMTu9yzbt06LV68WEuXLpUkTZs2TS0tLVq2bJnWrFmjyMjOjXQ4HHI4HP29DwBGiJDPsKKjo5WWlqbq6urgsUAgoOrqamVmZna55/Lly52iFBUVJUkyxnzXeQGMYCGfYUmSx+NRXl6e0tPTNWvWLJWVlamlpUX5+fmSpNzcXCUnJ6u0tFSSlJ2drW3btmnmzJnKyMjQmTNntG7dOmVnZwfDBQD90WOwcnJydPHiRRUXF8vr9So1NVVVVVXBN+IbGho6PKNau3atIiIitHbtWn355Zf64Q9/qOzsbL3wwguDdy8AjAgRZhi+TvP7/YqLi1NTU5NiY2OHehwA/2MoH5/8LSEAaxAsANYgWACsQbAAWINgAbAGwQJgDYIFwBoEC4A1CBYAaxAsANYgWACsQbAAWINgAbAGwQJgDYIFwBoEC4A1CBYAaxAsANYgWACsQbAAWINgAbAGwQJgDYIFwBoEC4A1CBYAaxAsANYgWACsQbAAWINgAbAGwQJgDYIFwBoEC4A1CBYAaxAsANYgWACs0atglZeXKyUlRTExMcrIyNCRI0dCrr906ZIKCgqUlJQkh8OhO+64Q5WVlQMyMICRa1RPCw4cOCCPx6OdO3cqIyNDZWVlysrK0qlTp5SQkNBpfVtbm37+858rISFBr7/+upKTk/XFF19o/PjxgzE/gBEkwhhjQi3IyMjQ/fffr+3bt0uSAoGAXC6XVq5cqcLCwk7rd+7cqT/+8Y86efKkRo8e3a+h/H6/4uLi1NTUpNjY2H5dB4DBMZSPz5AvCdva2lRbWyu3231jQ2Sk3G63ampqutzz1ltvKTMzUwUFBXI6nZo6dao2btyo9vb2bm+ntbVVfr+/wwUAbhYyWI2NjWpvb5fT6exw3Ol0yuv1drmnvr5er7/+utrb21VZWal169Zp69atev7557u9ndLSUsXFxQUvLperH3cFwPfdgP+WMBAIKCEhQbt27VJaWppycnK0Zs0a7dy5s9s9RUVFampqCl7Onz8/0GMB+B4I+aZ7fHy8oqKi5PP5Ohz3+XxKTEzsck9SUpJGjx6tqKio4LG7775bXq9XbW1tio6O7rTH4XDI4XD0Z34AI0jIZ1jR0dFKS0tTdXV18FggEFB1dbUyMzO73DNnzhydOXNGgUAgeOz06dNKSkrqMlYA0Fs9viT0eDzavXu3XnnlFZ04cUKPP/64WlpalJ+fL0nKzc1VUVFRcP3jjz+ur7/+Wk8++aROnz6tQ4cOaePGjSooKBi8ewFgROjxPKycnBxdvHhRxcXF8nq9Sk1NVVVVVfCN+IaGBkVG3uiey+XSO++8o1WrVmn69OlKTk7Wk08+qdWrVw/evQAwIvR4HtZQ4DwsYPgatudhAcBwQrAAWINgAbAGwQJgDYIFwBoEC4A1CBYAaxAsANYgWACsQbAAWINgAbAGwQJgDYIFwBoEC4A1CBYAaxAsANYgWACsQbAAWINgAbAGwQJgDYIFwBoEC4A1CBYAaxAsANYgWACsQbAAWINgAbAGwQJgDYIFwBoEC4A1CBYAaxAsANYgWACsQbAAWINgAbBGr4JVXl6ulJQUxcTEKCMjQ0eOHOnVlVdUVCgiIkILFy78LjMCgKReBOvAgQPyeDwqKSnR0aNHNWPGDGVlZenChQsh9507d06/+93vNHfu3AEbFsDI1mOwtm3bpscee0z5+fm65557tHPnTo0dO1Z79+7tdk97e7seffRRrV+/XpMnTx7QgQGMXCGD1dbWptraWrnd7hsbIiPldrtVU1PT7b7nnntOCQkJWrJkycBNCmDEGxXqm42NjWpvb5fT6exw3Ol06uTJk13u+fDDD7Vnzx7V1dX1eojW1la1trYGv/b7/b3eC2DkGNDfEjY3N2vx4sXavXu34uPje72vtLRUcXFxwYvL5RrIsQB8T4R8hhUfH6+oqCj5fL4Ox30+nxITEzut//zzz3Xu3DllZ2cHjwUCgW9vaNQonTp1SlOmTOm0r6ioSB6PJ/i13+8nWgA6CRms6OhopaWlqbq6OnhqQiAQUHV1tVasWNFp/V133aVPP/20w7G1a9equblZf/rTn7qNkMPhkMPh6OddADBShAyWJHk8HuXl5Sk9PV2zZs1SWVmZWlpalJ+fL0nKzc1VcnKySktLFRMTo6lTp3bYP378eEnqdBwA+qrHYOXk5OjixYsqLi6W1+tVamqqqqqqgm/ENzQ0KDKSE+YBDL4IY4wZ6iFu5vf7FRcXp6amJsXGxg71OAD+x1A+PnlqBMAaBAuANQgWAGsQLADWIFgArEGwAFiDYAGwBsECYA2CBcAaBAuANQgWAGsQLADWIFgArEGwAFiDYAGwBsECYA2CBcAaBAuANQgWAGsQLADWIFgArEGwAFiDYAGwBsECYA2CBcAaBAuANQgWAGsQLADWIFgArEGwAFiDYAGwBsECYA2CBcAaBAuANQgWAGv0Kljl5eVKSUlRTEyMMjIydOTIkW7X7t69W3PnztWECRM0YcIEud3ukOsBoLd6DNaBAwfk8XhUUlKio0ePasaMGcrKytKFCxe6XH/48GE98sgjev/991VTUyOXy6WHHnpIX3755YAPD2BkiTDGmFALMjIydP/992v79u2SpEAgIJfLpZUrV6qwsLDHG2hvb9eECRO0fft25ebm9moov9+vuLg4NTU1KTY2tld7AITHUD4+Qz7DamtrU21trdxu940NkZFyu92qqanp1Q1cvnxZV69e1a233vrdJgUw4o0K9c3Gxka1t7fL6XR2OO50OnXy5Mle3cDq1as1ceLEDtG7WWtrq1pbW4Nf+/3+Xl03gJFlUH9LuGnTJlVUVOjgwYOKiYnpdl1paani4uKCF5fLNZhjAbBUyGDFx8crKipKPp+vw3Gfz6fExMSQV7xlyxZt2rRJ7777rqZPnx5ybVFRkZqamoKX8+fP93J8ACNJyGBFR0crLS1N1dXVwWOBQEDV1dXKzMzsdt/mzZu1YcMGVVVVKT09vcchHA6HYmNjO1wA4GYh38OSJI/Ho7y8PKWnp2vWrFkqKytTS0uL8vPzJUm5ublKTk5WaWmpJOkPf/iDiouLtX//fqWkpMjr9UqSbrnlFt1yyy2DeFcAfN/1GKycnBxdvHhRxcXF8nq9Sk1NVVVVVfCN+IaGBkVG3nii9tJLL6mtrU2/+tWvOlxPSUmJnn322YGdHsCI0uN5WEOB87CA4WvYnocFAMMJwQJgDYIFwBoEC4A1CBYAaxAsANYgWACsQbAAWINgAbAGwQJgDYIFwBoEC4A1CBYAaxAsANYgWACsQbAAWINgAbAGwQJgDYIFwBoEC4A1CBYAaxAsANYgWACsQbAAWINgAbAGwQJgDYIFwBoEC4A1CBYAaxAsANYgWACsQbAAWINgAbAGwQJgDYIFwBq9ClZ5eblSUlIUExOjjIwMHTlyJOT6v/71r7rrrrsUExOjadOmqbKyckCGBTCy9RisAwcOyOPxqKSkREePHtWMGTOUlZWlCxcudLn+448/1iOPPKIlS5bo2LFjWrhwoRYuXKjPPvtswIcHMLJEGGNMqAUZGRm6//77tX37dklSIBCQy+XSypUrVVhY2Gl9Tk6OWlpa9PbbbweP/fSnP1Vqaqp27tzZq6H8fr/i4uLU1NSk2NjYvtwfAINsKB+fIZ9htbW1qba2Vm63+8aGyEi53W7V1NR0uaempqbDeknKysrqdj0A9NaoUN9sbGxUe3u7nE5nh+NOp1MnT57sco/X6+1yvdfr7fZ2Wltb1draGvy6qalJ0rclBzC8XH9c9vDibFCEDFa4lJaWav369Z2Ou1yuIZgGQG/8+9//VlxcXFhvM2Sw4uPjFRUVJZ/P1+G4z+dTYmJil3sSExP7tF6SioqK5PF4gl9funRJt912mxoaGsL+A/ku/H6/XC6Xzp8/b917b7bObuvckr2zNzU1adKkSbr11lvDftshgxUdHa20tDRVV1dr4cKFkr590726ulorVqzock9mZqaqq6v11FNPBY+99957yszM7PZ2HA6HHA5Hp+NxcXFW/UNeFxsba+Xckr2z2zq3ZO/skZHhP42zx5eEHo9HeXl5Sk9P16xZs1RWVqaWlhbl5+dLknJzc5WcnKzS0lJJ0pNPPql58+Zp69atWrBggSoqKvTJJ59o165dg3tPAHzv9RisnJwcXbx4UcXFxfJ6vUpNTVVVVVXwjfWGhoYOpZ09e7b279+vtWvX6plnntFPfvITvfnmm5o6derg3QsAI4MZhq5cuWJKSkrMlStXhnqUPrF1bmPsnd3WuY2xd/ahnLvHE0cBYLjgj58BWINgAbAGwQJgDYIFwBpDEiybP1+rL7Pv3r1bc+fO1YQJEzRhwgS53e4e7+tg6evP/LqKigpFREQETxweCn2d/dKlSyooKFBSUpIcDofuuOOOIfk/09e5y8rKdOedd2rMmDFyuVxatWqVrly5EqZpb/jggw+UnZ2tiRMnKiIiQm+++WaPew4fPqz77rtPDodDt99+u/bt2zc4w4X715IVFRUmOjra7N271/zzn/80jz32mBk/frzx+Xxdrv/oo49MVFSU2bx5szl+/LhZu3atGT16tPn000/DPHnfZ1+0aJEpLy83x44dMydOnDC/+c1vTFxcnPnXv/41rOe+7uzZsyY5OdnMnTvX/PKXvwzPsDfp6+ytra0mPT3dzJ8/33z44Yfm7Nmz5vDhw6aurm5Yz/3qq68ah8NhXn31VXP27FnzzjvvmKSkJLNq1aqwzm2MMZWVlWbNmjXmjTfeMJLMwYMHQ66vr683Y8eONR6Pxxw/fty8+OKLJioqylRVVQ34bGEP1qxZs0xBQUHw6/b2djNx4kRTWlra5fqHH37YLFiwoMOxjIwM89vf/nZQ5+xKX2e/2bVr18y4cePMK6+8Mlgjdqk/c1+7ds3Mnj3bvPzyyyYvL2/IgtXX2V966SUzefJk09bWFq4Ru9TXuQsKCszPfvazDsc8Ho+ZM2fOoM7Zk94E6+mnnzb33ntvh2M5OTkmKytrwOcJ60tCmz9fqz+z3+zy5cu6evVqWP9otL9zP/fcc0pISNCSJUvCMWaX+jP7W2+9pczMTBUUFMjpdGrq1KnauHGj2tvbwzV2v+aePXu2amtrgy8b6+vrVVlZqfnz54dl5u8inI/RsH68TLg+X2sw9Gf2m61evVoTJ07s9I87mPoz94cffqg9e/aorq4uDBN2rz+z19fX6+9//7seffRRVVZW6syZM3riiSd09epVlZSUhGPsfs29aNEiNTY26oEHHpAxRteuXdPy5cv1zDPPhGPk76S7x6jf79c333yjMWPGDNht8VvCMNm0aZMqKip08OBBxcTEDPU43WpubtbixYu1e/duxcfHD/U4fRYIBJSQkKBdu3YpLS1NOTk5WrNmTa8/nnuoHD58WBs3btSOHTt09OhRvfHGGzp06JA2bNgw1KMNK2F9hhWuz9caDP2Z/botW7Zo06ZN+tvf/qbp06cP5pid9HXuzz//XOfOnVN2dnbwWCAQkCSNGjVKp06d0pQpUwZ36P/Xn595UlKSRo8eraioqOCxu+++W16vV21tbYqOjh7UmaX+zb1u3TotXrxYS5culSRNmzZNLS0tWrZsmdasWTMkH+XSW909RmNjYwf02ZUU5mdY//v5Wtdd/3yt7j4v6/rna/2vnj5fazD0Z3ZJ2rx5szZs2KCqqiqlp6eHY9QO+jr3XXfdpU8//VR1dXXByy9+8Qs9+OCDqqurC+unwPbnZz5nzhydOXMmGFlJOn36tJKSksISK6l/c1++fLlTlK5H1wzzP/cN62N0wN/G70FFRYVxOBxm37595vjx42bZsmVm/Pjxxuv1GmOMWbx4sSksLAyu/+ijj8yoUaPMli1bzIkTJ0xJScmQntbQl9k3bdpkoqOjzeuvv26++uqr4KW5uXlYz32zofwtYV9nb2hoMOPGjTMrVqwwp06dMm+//bZJSEgwzz///LCeu6SkxIwbN8785S9/MfX19ebdd981U6ZMMQ8//HBY5zbGmObmZnPs2DFz7NgxI8ls27bNHDt2zHzxxRfGGGMKCwvN4sWLg+uvn9bw+9//3pw4ccKUl5d/f05rMMaYF1980UyaNMlER0ebWbNmmX/84x/B782bN8/k5eV1WP/aa6+ZO+64w0RHR5t7773XHDp0KMwT39CX2W+77TYjqdOlpKRkWM99s6EMljF9n/3jjz82GRkZxuFwmMmTJ5sXXnjBXLt2LcxT923uq1evmmeffdZMmTLFxMTEGJfLZZ544gnzn//8J+xzv//++13+v70+b15enpk3b16nPampqSY6OtpMnjzZ/PnPfx6U2fh4GQDWGL7v5AHATQgWAGsQLADWIFgArEGwAFiDYAGwBsECYA2CBcAaBAuANQgWAGsQLADW+D8jzygHjuPgdQAAAABJRU5ErkJggg==' width=300.0/>\n",
       "            </div>\n",
       "        "
      ],
      "text/plain": [
       "Canvas(toolbar=Toolbar(toolitems=[('Home', 'Reset original view', 'home', 'home'), ('Back', 'Back to previous …"
      ]
     },
     "metadata": {},
     "output_type": "display_data"
    }
   ],
   "source": [
    "%matplotlib widget\n",
    "import matplotlib\n",
    "import matplotlib.pyplot as plt\n",
    "import matplotlib.animation as animation\n",
    "import numpy as np\n",
    "\n",
    "fig=plt.figure(figsize=(3,3))\n",
    "ax=plt.subplot()\n",
    "\n",
    "'''\n",
    "ax.spines['top'].set_visible(False)\n",
    "ax.spines['right'].set_visible(False)\n",
    "ax.spines['bottom'].set_position('center')\n",
    "ax.spines['bottom'].set(alpha=0.2)\n",
    "ax.spines['left'].set_visible(False)\n",
    "'''\n",
    "#ax.get_yaxis().set_ticks([])\n",
    "# scatters = []\n",
    "# for path in paths:\n",
    "#     scatters.append(ax.scatter(path[0][0], path[0][1], s = 50))\n",
    "#scatter3=ax.scatter(path3[0][0],path3[0][1],color='r',s=50)\n",
    "#scatter2=ax.scatter(path2[0][0],path2[0][1],color='b',s=50)\n",
    "#scatter1=ax.scatter(path1[0][0],path1[0][1],color='g',s=50)\n",
    "\n",
    "# with matplotlib.rc_context({'path.sketch': (5, 15, 1)}):\n",
    "#     spring=ax.plot([0,path2[0][0]],[0,path2[0][1]])\n",
    "whatTime=ax.text(10,0.8,'0')\n",
    "\n",
    "\n",
    "# xmax = max([point[0] for point in path1]+[point[0] for point in path2]+[point[0] for point in path3])+3\n",
    "# xmin = min([point[0] for point in path1]+[point[0] for point in path2]+[point[0] for point in path3])-3\n",
    "# ymax = max([point[1] for point in path1]+[point[1] for point in path2]+[point[1] for point in path3])+3\n",
    "# ymin = min([point[1] for point in path1]+[point[1] for point in path2]+[point[1] for point in path3])-3\n",
    "\n",
    "\n",
    "def update(frame):\n",
    "    numFrames=1000\n",
    "\n",
    "    ax = plt.gca()\n",
    "    ax.cla()\n",
    "    ax.set(xlim=(-20, 20),ylim=(-20,20))\n",
    "\n",
    "\n",
    "\n",
    "    whichPointOfPath=np.argmin(np.abs(np.array(times)-(frame/numFrames)*(max(times))))\n",
    "    for path in paths:\n",
    "        ax.scatter(path[whichPointOfPath][0],path[whichPointOfPath][1], s = 50)\n",
    "        #scatter.set_offsets((path[n][whichPointOfPath][0], path[n][whichPointOfPath][0]))\n",
    "    #scatter=scatters[0]\n",
    "    #scatter.set_offsets((path[0][whichPointOfPath][0], path[0][whichPointOfPath][1]))\n",
    "    # spring[0].set_xdata([x1, x2])\n",
    "    # spring[0].set_ydata([y1, y2])\n",
    "\n",
    "    whatTime.set(text=str(round(times[whichPointOfPath],1)))\n",
    "\n",
    "    #return (scatter,whatTime)\n",
    "    #return (scatter1, scatter2,whatTime,spring)\n",
    "\n",
    "anim=animation.FuncAnimation(fig=fig,func=update,frames=1000,interval=10)\n",
    "\n"
   ]
  },
  {
   "cell_type": "code",
   "execution_count": 5,
   "metadata": {},
   "outputs": [
    {
     "ename": "NameError",
     "evalue": "name 'path2' is not defined",
     "output_type": "error",
     "traceback": [
      "\u001b[1;31m---------------------------------------------------------------------------\u001b[0m",
      "\u001b[1;31mNameError\u001b[0m                                 Traceback (most recent call last)",
      "Cell \u001b[1;32mIn[5], line 18\u001b[0m\n\u001b[0;32m     16\u001b[0m ax\u001b[38;5;241m.\u001b[39mspines[\u001b[38;5;124m'\u001b[39m\u001b[38;5;124mleft\u001b[39m\u001b[38;5;124m'\u001b[39m]\u001b[38;5;241m.\u001b[39mset_visible(\u001b[38;5;28;01mFalse\u001b[39;00m)\n\u001b[0;32m     17\u001b[0m ax\u001b[38;5;241m.\u001b[39mget_yaxis()\u001b[38;5;241m.\u001b[39mset_ticks([])\n\u001b[1;32m---> 18\u001b[0m scatter2\u001b[38;5;241m=\u001b[39max\u001b[38;5;241m.\u001b[39mscatter(\u001b[43mpath2\u001b[49m[\u001b[38;5;241m0\u001b[39m],\u001b[38;5;241m0\u001b[39m,color\u001b[38;5;241m=\u001b[39m\u001b[38;5;124m'\u001b[39m\u001b[38;5;124mr\u001b[39m\u001b[38;5;124m'\u001b[39m,s\u001b[38;5;241m=\u001b[39m\u001b[38;5;241m50\u001b[39m)\n\u001b[0;32m     19\u001b[0m scatter3\u001b[38;5;241m=\u001b[39max\u001b[38;5;241m.\u001b[39mscatter(path3[\u001b[38;5;241m0\u001b[39m],\u001b[38;5;241m0\u001b[39m,color\u001b[38;5;241m=\u001b[39m\u001b[38;5;124m'\u001b[39m\u001b[38;5;124mr\u001b[39m\u001b[38;5;124m'\u001b[39m,s\u001b[38;5;241m=\u001b[39m\u001b[38;5;241m50\u001b[39m)\n\u001b[0;32m     20\u001b[0m whatTime\u001b[38;5;241m=\u001b[39max\u001b[38;5;241m.\u001b[39mtext(\u001b[38;5;241m10\u001b[39m,\u001b[38;5;241m0.8\u001b[39m,\u001b[38;5;124m'\u001b[39m\u001b[38;5;124m0\u001b[39m\u001b[38;5;124m'\u001b[39m)\n",
      "\u001b[1;31mNameError\u001b[0m: name 'path2' is not defined"
     ]
    },
    {
     "data": {
      "application/vnd.jupyter.widget-view+json": {
       "model_id": "e28132a7a72947a1b6521e3e3553e3d4",
       "version_major": 2,
       "version_minor": 0
      },
      "image/png": "[encoded data removed]",
      "text/html": [
       "\n",
       "            <div style=\"display: inline-block;\">\n",
       "                <div class=\"jupyter-widgets widget-label\" style=\"text-align: center;\">\n",
       "                    Figure\n",
       "                </div>\n",
       "                <img src='data:image/png;base64,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' width=1000.0/>\n",
       "            </div>\n",
       "        "
      ],
      "text/plain": [
       "Canvas(toolbar=Toolbar(toolitems=[('Home', 'Reset original view', 'home', 'home'), ('Back', 'Back to previous …"
      ]
     },
     "metadata": {},
     "output_type": "display_data"
    }
   ],
   "source": [
    "%matplotlib widget\n",
    "import matplotlib\n",
    "import matplotlib.pyplot as plt\n",
    "import matplotlib.animation as animation\n",
    "import numpy as np\n",
    "\n",
    "fig=plt.figure(figsize=(10,2))\n",
    "ax=plt.subplot()\n",
    "\n",
    "ax.set(xlim=(-11,11),ylim=(-1,1))\n",
    "\n",
    "ax.spines['top'].set_visible(False)\n",
    "ax.spines['right'].set_visible(False)\n",
    "ax.spines['bottom'].set_position('center')\n",
    "ax.spines['bottom'].set(alpha=0.2)\n",
    "ax.spines['left'].set_visible(False)\n",
    "ax.get_yaxis().set_ticks([])\n",
    "scatter2=ax.scatter(path2[0],0,color='r',s=50)\n",
    "scatter3=ax.scatter(path3[0],0,color='r',s=50)\n",
    "whatTime=ax.text(10,0.8,'0')\n",
    "\n",
    "def update(frame):\n",
    "    numFrames=1000\n",
    "    whichPointOfPath=np.argmin(np.abs(np.array(times)-(frame/numFrames)*(max(times))))\n",
    "    x2=path2[whichPointOfPath]\n",
    "    x3=path3[whichPointOfPath]\n",
    "    scatter2.set_offsets((x2,0))\n",
    "    scatter3.set_offsets((x3,0))\n",
    "\n",
    "    whatTime.set(text=str(round(times[whichPointOfPath],1)))\n",
    "\n",
    "    return (scatter2,scatter3,whatTime)\n",
    "    #return (scatter2,scatter3,scatterSpring,whatTime,spring)\n",
    "\n",
    "anim=animation.FuncAnimation(fig=fig,func=update,frames=1000,interval=30)\n",
    "\n"
   ]
  },
  {
   "cell_type": "code",
   "execution_count": null,
   "metadata": {},
   "outputs": [],
   "source": [
    "import pstats\n",
    "p=pstats.Stats('profilelonger')\n",
    "p.sort_stats('time').print_stats(10)"
   ]
  },
  {
   "cell_type": "code",
   "execution_count": null,
   "metadata": {},
   "outputs": [],
   "source": [
    "from dreamtime import *\n",
    "\n",
    "a=vector([0,0,0])\n",
    "b=vector([1,230,4])\n",
    "b.magnitude()*b.direction()"
   ]
  }
 ],
 "metadata": {
  "kernelspec": {
   "display_name": "Python 3",
   "language": "python",
   "name": "python3"
  },
  "language_info": {
   "codemirror_mode": {
    "name": "ipython",
    "version": 3
   },
   "file_extension": ".py",
   "mimetype": "text/x-python",
   "name": "python",
   "nbconvert_exporter": "python",
   "pygments_lexer": "ipython3",
   "version": "3.11.4"
  }
 },
 "nbformat": 4,
 "nbformat_minor": 2
}
